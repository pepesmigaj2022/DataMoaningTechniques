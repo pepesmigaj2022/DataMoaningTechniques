{
 "cells": [
  {
   "attachments": {},
   "cell_type": "markdown",
   "metadata": {},
   "source": [
    "# Data Preparation"
   ]
  },
  {
   "cell_type": "code",
   "execution_count": 1,
   "metadata": {},
   "outputs": [],
   "source": [
    "import numpy as np \n",
    "import pandas as pd\n",
    "\n",
    "from datetime import datetime"
   ]
  },
  {
   "cell_type": "code",
   "execution_count": 2,
   "metadata": {},
   "outputs": [],
   "source": [
    "# Load dataset\n",
    "dataset_path = 'ass1/data/dataset_mood_smartphone.csv'\n",
    "df = pd.read_csv(dataset_path, index_col=False).drop(columns='Unnamed: 0')\n",
    "\n",
    "def clean_dataset(df):\n",
    "    # from id\n",
    "    df[\"id\"] = df[\"id\"].str.extract(r\"AS14\\.(\\d{2})\")[0].astype(float).astype(int)\n",
    "    \n",
    "    # from time (ensure it's in datetime format)\n",
    "    df[\"time\"] = pd.to_datetime(df[\"time\"], format=\"%Y-%m-%d %H:%M:%S.%f\")  # Keep as datetime\n",
    "\n",
    "    # Extract required columns\n",
    "    df[\"date\"] = df[\"time\"].dt.date  # Extract date\n",
    "    df[\"day_of_the_week\"] = df[\"time\"].dt.day_name()  # Extract day name\n",
    "    df[\"hour_of_the_day\"] = df[\"time\"].dt.hour  # Extract hour\n",
    "\n",
    "    # from variable\n",
    "    df['record_type'] = df['variable'].apply(lambda x: {'appCat': 'app', 'circumplex': 'sensor'}.get(x.split('.')[0], x.split('.')[0]))\n",
    "    df['record_detail'] = df['variable'].apply(lambda x: x.split('.')[1] if len(x.split('.')) > 1 else None)\n",
    "\n",
    "    # select relevant columns\n",
    "    relevant_cols = [\n",
    "        'id',\n",
    "        'time',\n",
    "        'date',\n",
    "        'day_of_the_week',\n",
    "        'hour_of_the_day',\n",
    "        'hour_of_the_day',\n",
    "        'record_type',\n",
    "        'record_detail',\n",
    "        'value']\n",
    "    \n",
    "    return df\n",
    "\n",
    "# Load dataset\n",
    "dataset_path = 'ass1/data/dataset_mood_smartphone.csv'\n",
    "df = pd.read_csv(dataset_path, index_col=False).drop(columns='Unnamed: 0')\n",
    "\n",
    "# Clean dataset\n",
    "df = clean_dataset(df)\n",
    "\n",
    "# Save cleaned dataset\n",
    "cleaned_dataset_path = 'ass1/data/dataset_clean.csv'\n",
    "df.to_csv(cleaned_dataset_path, index=False)"
   ]
  }
 ],
 "metadata": {
  "kernelspec": {
   "display_name": "Python 3",
   "language": "python",
   "name": "python3"
  },
  "language_info": {
   "codemirror_mode": {
    "name": "ipython",
    "version": 3
   },
   "file_extension": ".py",
   "mimetype": "text/x-python",
   "name": "python",
   "nbconvert_exporter": "python",
   "pygments_lexer": "ipython3",
   "version": "3.9.6"
  },
  "orig_nbformat": 4
 },
 "nbformat": 4,
 "nbformat_minor": 2
}
